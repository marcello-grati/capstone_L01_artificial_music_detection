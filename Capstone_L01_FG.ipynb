{
  "cells": [
    {
      "cell_type": "markdown",
      "metadata": {
        "id": "view-in-github",
        "colab_type": "text"
      },
      "source": [
        "<a href=\"https://colab.research.google.com/github/marcello-grati/capstone_L01_artificial_music_detection/blob/main/Capstone_L01_FG.ipynb\" target=\"_parent\"><img src=\"https://colab.research.google.com/assets/colab-badge.svg\" alt=\"Open In Colab\"/></a>"
      ]
    },
    {
      "cell_type": "code",
      "execution_count": null,
      "metadata": {
        "id": "vk8Y9s0-nNAx"
      },
      "outputs": [],
      "source": [
        "import numpy as np\n",
        "import librosa.display\n",
        "import soundfile\n",
        "import random\n",
        "import os, glob\n",
        "import math\n",
        "import pandas as pd\n",
        "from sklearn.preprocessing import StandardScaler\n",
        "from sklearn.model_selection import train_test_split\n",
        "from sklearn.decomposition import PCA\n",
        "from sklearn.neighbors import KNeighborsClassifier\n",
        "from sklearn.svm import SVC\n",
        "from sklearn.tree import DecisionTreeClassifier\n",
        "from sklearn.ensemble import RandomForestClassifier, AdaBoostClassifier\n",
        "from sklearn.naive_bayes import GaussianNB\n",
        "from sklearn.discriminant_analysis import QuadraticDiscriminantAnalysis\n",
        "import matplotlib.pyplot as plt\n",
        "from matplotlib.colors import Normalize\n",
        "from sklearn.metrics import f1_score, precision_score, recall_score, accuracy_score, matthews_corrcoef\n",
        "\n",
        "from sklearn import preprocessing\n",
        "from sklearn.cluster import KMeans\n",
        "from sklearn import metrics\n",
        "from sklearn.metrics import silhouette_score\n",
        "import seaborn as sns"
      ]
    },
    {
      "cell_type": "code",
      "execution_count": null,
      "metadata": {
        "colab": {
          "base_uri": "https://localhost:8080/"
        },
        "id": "iYBTAozjh24k",
        "outputId": "24a367d1-4687-4364-cf50-9e5363f8d804"
      },
      "outputs": [
        {
          "output_type": "stream",
          "name": "stdout",
          "text": [
            "Mounted at /content/drive\n"
          ]
        }
      ],
      "source": [
        "# Import dataset from google drive folder\n",
        "\n",
        "from google.colab import drive\n",
        "drive.mount('/content/drive')"
      ]
    },
    {
      "cell_type": "code",
      "execution_count": null,
      "metadata": {
        "id": "VEvJWPwRR2II"
      },
      "outputs": [],
      "source": [
        "# Definition of the paths of the datsets\n",
        "\n",
        "#Fake datasets paths\n",
        "pathRiffusionDataset  = '/content/drive/My Drive/capstone_project/Datasets_5/Fake/Riffusion'\n",
        "pathJSFCDataset  = '/content/drive/My Drive/capstone_project/Datasets_5/Fake/JsFakeChorale'\n",
        "pathLADataset = '/content/drive/My Drive/capstone_project/Datasets_5/Fake/LA_composer'\n",
        "pathRNNDataset = '/content/drive/My Drive/capstone_project/Datasets_5/Fake/RNNCPAC'\n",
        "pathArtificialDataset = '/content/drive/My Drive/capstone_project/Datasets_5/Fake/ArtificialSongGenerator'\n",
        "\n",
        "\n",
        "#Real datasets paths\n",
        "pathMusicnetDataset = '/content/drive/My Drive/capstone_project/Datasets_5/Real/Musicnet'\n",
        "pathMaestroDataset = '/content/drive/My Drive/capstone_project/Datasets_5/Real/Maestro'\n"
      ]
    },
    {
      "cell_type": "code",
      "execution_count": null,
      "metadata": {
        "id": "vQuR9InpXqvF"
      },
      "outputs": [],
      "source": [
        "# Global variables\n",
        "\n",
        "sr = 16000      # sample rate\n",
        "n_mels = 128    # number of Mel bands to generate\n",
        "n_mfcc = 128    # number of MFCCs bands to generate\n"
      ]
    },
    {
      "cell_type": "code",
      "execution_count": null,
      "metadata": {
        "id": "EPcTmwWyEW8T"
      },
      "outputs": [],
      "source": [
        "#Function that create the matrix of audio features\n",
        "\n",
        "def get_features(file, sample_rate, feature_type) :\n",
        "    # Load an individual soundfile\n",
        "     with soundfile.SoundFile(file) as audio:\n",
        "        waveform = audio.read(dtype=\"float32\")\n",
        "\n",
        "        #Compute the Z-score normalization of each audio file\n",
        "\n",
        "        mean = np.mean(waveform, axis=0)\n",
        "        std = np.std(waveform, axis=0)\n",
        "\n",
        "        #Add an epsilon term to the standard deviation to avoid division by zero\n",
        "        epsilon = 1e-8\n",
        "        std = np.where(std == 0, epsilon, std)\n",
        "        waveform = (waveform - mean) / std\n",
        "\n",
        "        #Feature extraction\n",
        "\n",
        "        #Mel coefficients\n",
        "        if feature_type == \"mel\" :\n",
        "          return librosa.amplitude_to_db(librosa.feature.melspectrogram(y=waveform, sr=sample_rate, n_mels=n_mels, fmax=sr/2))\n",
        "        #Mel-frequency Cepstral Coefficients\n",
        "        elif feature_type == \"mfcc\" :\n",
        "          return librosa.amplitude_to_db(librosa.feature.mfcc(y=waveform, sr=sample_rate, n_mfcc=n_mfcc))\n",
        "        #Band Energy Ratio\n",
        "        elif feature_type == \"ber\":\n",
        "          return librosa.amplitude_to_db(librosa.feature.spectral_contrast(y=waveform, sr=sample_rate))\n",
        "        #Short-Time Fourier Transform\n",
        "        elif feature_type == \"stft\":\n",
        "          return librosa.amplitude_to_db(np.abs(librosa.stft(y=waveform)),ref=np.max)\n",
        "        else :\n",
        "          print(\"Wrong feature type\")"
      ]
    },
    {
      "cell_type": "code",
      "execution_count": null,
      "metadata": {
        "id": "a-Uar4ffHbKR"
      },
      "outputs": [],
      "source": [
        "# Chosen feature to extract\n",
        "feature_type = \"mfcc\""
      ]
    },
    {
      "cell_type": "code",
      "execution_count": null,
      "metadata": {
        "id": "OstsKDeEMWIu"
      },
      "outputs": [],
      "source": [
        "# Function for split file name and detect it\n",
        "\n",
        "def parse_string(input_string,val):\n",
        "  a = None\n",
        "  parts = input_string.split('_')\n",
        "  a = parts[val]\n",
        "  return a\n",
        "\n",
        "# Function that takes n unrepeated numbers from 0 to Nmax and return an array of them\n",
        "\n",
        "def random_int_array(n, Nmax):\n",
        "  if n > Nmax:\n",
        "    raise ValueError(\"n must be less than or equal to Nmax\")\n",
        "  integers = random.sample(range(Nmax), n)\n",
        "  return np.array(integers)"
      ]
    },
    {
      "cell_type": "code",
      "execution_count": null,
      "metadata": {
        "id": "K1lyaEp2iZuS"
      },
      "outputs": [],
      "source": [
        "# Takes audio data from files in datasets and extract their audio features.\n",
        "# Returns:\n",
        "#   - X : feature matrix\n",
        "#   - y : labels vector\n",
        "#   - z : files names vector\n",
        "\n",
        "def load_data_balanced(num_vector, datasets_vector, feature_type):\n",
        "\n",
        "  if (len(num_vector) != len(datasets_vector)) :\n",
        "    print(\"wrong number of parameters\")\n",
        "    return None\n",
        "\n",
        "  X, y, z, w = [],[],[], []\n",
        "\n",
        "  #For all the datasets\n",
        "  for i in range(len(num_vector)):\n",
        "\n",
        "    count = 0\n",
        "    print(datasets_vector[i])\n",
        "\n",
        "    file = os.listdir(datasets_vector[i])\n",
        "    #Count the number of songs into the dataset\n",
        "    songs = len(file)\n",
        "\n",
        "    #Select random number of songs in the dataset\n",
        "\n",
        "    print(\"Number of audio files: \"+str(songs))\n",
        "    chosen_files = random_int_array(num_vector[i], songs)\n",
        "\n",
        "    #For all the file in the dataset\n",
        "\n",
        "    for k in chosen_files :\n",
        "\n",
        "      features = get_features(datasets_vector[i] + '/' + file[k], sr, feature_type)\n",
        "      emotion = parse_string(file[k],1)\n",
        "\n",
        "\n",
        "      X.append(features)\n",
        "      y.append(emotion)\n",
        "      z.append(file[k])\n",
        "\n",
        "      count += 1\n",
        "      print('\\r' + f' Processed {count}/{num_vector[i]} audio samples',end=' ')\n",
        "\n",
        "\n",
        "    print(\"\\n-----------------------------------------------------------------------------------------------------------\")\n",
        "\n",
        "  # Return arrays to plug into sklearn's cross-validation algorithms\n",
        "  print(\"DONE!!!\")\n",
        "  return X, y, z"
      ]
    },
    {
      "cell_type": "code",
      "execution_count": null,
      "metadata": {
        "colab": {
          "base_uri": "https://localhost:8080/"
        },
        "id": "kbwZT-_4jLwt",
        "outputId": "d065fdc4-dd3f-4fce-8376-ae194fc19aa1"
      },
      "outputs": [
        {
          "output_type": "stream",
          "name": "stdout",
          "text": [
            "/content/drive/My Drive/capstone_project/Datasets_5/Fake/Riffusion\n",
            "Number of audio files: 500\n",
            " Processed 340/340 audio samples \n",
            "-----------------------------------------------------------------------------------------------------------\n",
            "/content/drive/My Drive/capstone_project/Datasets_5/Fake/JsFakeChorale\n",
            "Number of audio files: 528\n",
            " Processed 340/340 audio samples \n",
            "-----------------------------------------------------------------------------------------------------------\n",
            "/content/drive/My Drive/capstone_project/Datasets_5/Fake/LA_composer\n",
            "Number of audio files: 488\n",
            " Processed 340/340 audio samples \n",
            "-----------------------------------------------------------------------------------------------------------\n",
            "/content/drive/My Drive/capstone_project/Datasets_5/Fake/RNNCPAC\n",
            "Number of audio files: 482\n",
            " Processed 340/340 audio samples \n",
            "-----------------------------------------------------------------------------------------------------------\n",
            "/content/drive/My Drive/capstone_project/Datasets_5/Fake/ArtificialSongGenerator\n",
            "Number of audio files: 342\n",
            " Processed 340/340 audio samples \n",
            "-----------------------------------------------------------------------------------------------------------\n",
            "/content/drive/My Drive/capstone_project/Datasets_5/Real/Musicnet\n",
            "Number of audio files: 1376\n",
            " Processed 340/340 audio samples \n",
            "-----------------------------------------------------------------------------------------------------------\n",
            "/content/drive/My Drive/capstone_project/Datasets_5/Real/Maestro\n",
            "Number of audio files: 1232\n",
            " Processed 340/340 audio samples \n",
            "-----------------------------------------------------------------------------------------------------------\n",
            "DONE!!!\n"
          ]
        }
      ],
      "source": [
        "# Define chosen number of audio files per datasets (sum between real and fake must be equal)\n",
        "\n",
        "open_test_dim = 340\n",
        "\n",
        "num_samples_vector = [open_test_dim,\n",
        "                      open_test_dim,\n",
        "                      open_test_dim,\n",
        "                      open_test_dim,\n",
        "                      open_test_dim,\n",
        "                      open_test_dim,\n",
        "                      open_test_dim,]\n",
        "\n",
        "# Define path for chosen datasets\n",
        "\n",
        "datasets_vector = [pathRiffusionDataset,\n",
        "                   pathJSFCDataset,\n",
        "                   pathLADataset,\n",
        "                   pathRNNDataset,\n",
        "                   pathArtificialDataset,\n",
        "                   pathMusicnetDataset,\n",
        "                   pathMaestroDataset\n",
        "                   ]\n",
        "\n",
        "# Compute the dataset\n",
        "X, y_generators, z = load_data_balanced(num_samples_vector, datasets_vector, feature_type)\n",
        "\n",
        "# len(X), len(y), len(z)"
      ]
    },
    {
      "cell_type": "code",
      "execution_count": null,
      "metadata": {
        "colab": {
          "base_uri": "https://localhost:8080/"
        },
        "id": "aLtq3I5C5lpY",
        "outputId": "3d292890-7a73-4119-b378-63f9a4a1a864"
      },
      "outputs": [
        {
          "output_type": "execute_result",
          "data": {
            "text/plain": [
              "(128, 157)"
            ]
          },
          "metadata": {},
          "execution_count": 22
        }
      ],
      "source": [
        "#See shapes of a random audio tracks extracted\n",
        "\n",
        "X[823].shape"
      ]
    },
    {
      "cell_type": "code",
      "execution_count": null,
      "metadata": {
        "colab": {
          "base_uri": "https://localhost:8080/"
        },
        "id": "und9LfbMvYn6",
        "outputId": "d18243c4-74e1-433e-9e33-3f0908673f83"
      },
      "outputs": [
        {
          "output_type": "stream",
          "name": "stdout",
          "text": [
            "\n",
            "Number out of shape songs = 21\n"
          ]
        }
      ],
      "source": [
        "# Fix out of shape songs by truncating or zer-padding\n",
        "\n",
        "matrix_dim_2 = 157\n",
        "counter = 0\n",
        "\n",
        "for index in range(len(X)) :\n",
        "  if X[index].shape[1] != matrix_dim_2 :\n",
        "    counter += 1\n",
        "\n",
        "    if (X[index].shape[1] < matrix_dim_2) :\n",
        "      X[index] = np.pad(X[index], [(0,0), (0, matrix_dim_2 - X[index].shape[1])])\n",
        "    X[index] = X[index][:,:matrix_dim_2]\n",
        "\n",
        "print(f\"\\nNumber out of shape songs = {counter}\")\n",
        "\n",
        "X = np.array(X)\n",
        "y_generators = np.array(y_generators)\n",
        "z = np.array(z)"
      ]
    },
    {
      "cell_type": "code",
      "execution_count": null,
      "metadata": {
        "colab": {
          "base_uri": "https://localhost:8080/"
        },
        "id": "DbieKPQf9MZH",
        "outputId": "39ede549-7aeb-4020-dd46-4aac4146faf8"
      },
      "outputs": [
        {
          "output_type": "execute_result",
          "data": {
            "text/plain": [
              "(2380, 20096)"
            ]
          },
          "metadata": {},
          "execution_count": 24
        }
      ],
      "source": [
        "# Reshape 3D vector into 2D vector\n",
        "\n",
        "X_flattened = np.reshape(X, (X.shape[0], -1))\n",
        "\n",
        "X_flattened.shape"
      ]
    },
    {
      "cell_type": "code",
      "execution_count": null,
      "metadata": {
        "colab": {
          "base_uri": "https://localhost:8080/",
          "height": 487
        },
        "id": "y9zSUPVf_LNr",
        "outputId": "8a5bbae9-e0a7-4d74-f8c9-72c7d0180701"
      },
      "outputs": [
        {
          "output_type": "display_data",
          "data": {
            "text/plain": [
              "<Figure size 640x480 with 1 Axes>"
            ],
            "image/png": "[encoded data removed]"
          },
          "metadata": {}
        }
      ],
      "source": [
        "# Apply PCA and evaluate explained variance\n",
        "\n",
        "n_components = 100\n",
        "\n",
        "pca = PCA(n_components=n_components)\n",
        "X_pca = pca.fit_transform(X_flattened)\n",
        "\n",
        "exp_var = pca.explained_variance_ratio_ * 100\n",
        "cum_exp_var = np.cumsum(exp_var)\n",
        "\n",
        "plt.bar(range(1, n_components+1), exp_var, align='center',\n",
        "        label='Individual explained variance')\n",
        "\n",
        "plt.step(range(1, n_components+1), cum_exp_var, where='mid',\n",
        "         label='Cumulative explained variance', color='red')\n",
        "\n",
        "plt.ylabel('Explained variance percentage')\n",
        "plt.xlabel('Principal component index')\n",
        "plt.xticks(ticks=list(range(0, n_components+1, 50)))\n",
        "plt.legend(loc='best')\n",
        "plt.tight_layout()\n",
        "\n",
        "plt.savefig(\"Barplot_PCA.png\")"
      ]
    },
    {
      "cell_type": "code",
      "execution_count": null,
      "metadata": {
        "id": "aKvlpL-F5jsC"
      },
      "outputs": [],
      "source": [
        "# Separate two datasets from learning in order to create open test\n",
        "X_ready = []\n",
        "y_ready = []\n",
        "\n",
        "X_ready = X_pca\n",
        "y_ready = y_generators"
      ]
    },
    {
      "cell_type": "code",
      "execution_count": null,
      "metadata": {
        "id": "HxIVSNMV6rru",
        "colab": {
          "base_uri": "https://localhost:8080/"
        },
        "outputId": "a6c425bc-2a5d-440c-b869-55a4fed308dd"
      },
      "outputs": [
        {
          "output_type": "execute_result",
          "data": {
            "text/plain": [
              "(1666, 714, 1666, 714)"
            ]
          },
          "metadata": {},
          "execution_count": 27
        }
      ],
      "source": [
        "# Split between train & test sets\n",
        "\n",
        "split = 0.3\n",
        "\n",
        "X_train, X_test, y_train, y_test = train_test_split(X_ready, y_ready, test_size=split, random_state=42)\n",
        "\n",
        "len(X_train), len(X_test), len(y_train), len(y_test)"
      ]
    },
    {
      "cell_type": "code",
      "source": [
        "#Compute the model evaluation:\n",
        "# - Training of the models with Train set\n",
        "# - Compute the prediction with Test set\n",
        "# - Compute the evaluation of the prediction, getting results.\n",
        "\n",
        "# Definition of classification models\n",
        "classification_models = [\n",
        "      KNeighborsClassifier(),#(3),\n",
        "      SVC(kernel='rbf'),\n",
        "      DecisionTreeClassifier(),#max_depth=5),\n",
        "      RandomForestClassifier(),#max_depth=5, n_estimators=10, max_features=1),\n",
        "      AdaBoostClassifier(),\n",
        "      GaussianNB(),\n",
        "      QuadraticDiscriminantAnalysis()\n",
        "      ]\n",
        "\n",
        "scores = []\n",
        "\n",
        "for model in classification_models:\n",
        "  # Trainin of the models\n",
        "  model.fit(X_train, y_train)\n",
        "  # Compute the prediction\n",
        "  score = model.score(X_test, y_test)\n",
        "  model_name = type(model).__name__\n",
        "  if model_name=='SVC' and model.kernel=='rbf': model_name+=' RBF kernel'\n",
        "  y_pred = model.predict(X_test)\n",
        "  # Compute the evaluation of the prediction\n",
        "  scores.append((\n",
        "        model_name,\n",
        "        (f'{100*f1_score(y_test, y_pred, average=\"macro\"):.2f}%'),\n",
        "        (f'{100*score:.2f}%'),\n",
        "        (f'{matthews_corrcoef(y_test, y_pred):.2f}'),\n",
        "        (f'{100*precision_score(y_test, y_pred, average=\"macro\"):.2f}%'),\n",
        "        (f'{100*recall_score(y_test, y_pred, average=\"macro\"):.2f}%'),\n",
        "        ))\n",
        "\n",
        "# Make it pretty\n",
        "scores_df = pd.DataFrame(scores,columns=['Classifier','F1 Score','Accuracy','MCC','Precision','Recall'])\n",
        "results = scores_df.sort_values(by='F1 Score',axis=0,ascending=False)\n",
        "# Print the results\n",
        "results"
      ],
      "metadata": {
        "id": "17bV5VMseWWr",
        "colab": {
          "base_uri": "https://localhost:8080/"
        },
        "outputId": "15993001-56bd-4afb-c07f-8cee6a4f4e1d"
      },
      "execution_count": null,
      "outputs": [
        {
          "output_type": "stream",
          "name": "stderr",
          "text": [
            "/usr/local/lib/python3.10/dist-packages/sklearn/metrics/_classification.py:1344: UndefinedMetricWarning: Precision is ill-defined and being set to 0.0 in labels with no predicted samples. Use `zero_division` parameter to control this behavior.\n",
            "  _warn_prf(average, modifier, msg_start, len(result))\n"
          ]
        },
        {
          "output_type": "execute_result",
          "data": {
            "text/plain": [
              "                      Classifier F1 Score Accuracy   MCC Precision  Recall\n",
              "1                 SVC RBF kernel   94.35%   94.54%  0.94    94.43%  94.38%\n",
              "3         RandomForestClassifier   91.10%   91.32%  0.90    91.32%  91.13%\n",
              "0           KNeighborsClassifier   90.38%   90.62%  0.89    90.77%  90.46%\n",
              "6  QuadraticDiscriminantAnalysis   87.43%   87.96%  0.86    88.05%  87.83%\n",
              "5                     GaussianNB   83.95%   84.31%  0.82    85.21%  84.39%\n",
              "2         DecisionTreeClassifier   83.15%   83.61%  0.81    83.21%  83.26%\n",
              "4             AdaBoostClassifier   43.05%   49.58%  0.47    51.57%  51.88%"
            ],
            "text/html": [
              "\n",
              "  <div id=\"df-55b5e614-ddf6-427d-9c63-97cd0617d9f2\">\n",
              "    <div class=\"colab-df-container\">\n",
              "      <div>\n",
              "<style scoped>\n",
              "    .dataframe tbody tr th:only-of-type {\n",
              "        vertical-align: middle;\n",
              "    }\n",
              "\n",
              "    .dataframe tbody tr th {\n",
              "        vertical-align: top;\n",
              "    }\n",
              "\n",
              "    .dataframe thead th {\n",
              "        text-align: right;\n",
              "    }\n",
              "</style>\n",
              "<table border=\"1\" class=\"dataframe\">\n",
              "  <thead>\n",
              "    <tr style=\"text-align: right;\">\n",
              "      <th></th>\n",
              "      <th>Classifier</th>\n",
              "      <th>F1 Score</th>\n",
              "      <th>Accuracy</th>\n",
              "      <th>MCC</th>\n",
              "      <th>Precision</th>\n",
              "      <th>Recall</th>\n",
              "    </tr>\n",
              "  </thead>\n",
              "  <tbody>\n",
              "    <tr>\n",
              "      <th>1</th>\n",
              "      <td>SVC RBF kernel</td>\n",
              "      <td>94.35%</td>\n",
              "      <td>94.54%</td>\n",
              "      <td>0.94</td>\n",
              "      <td>94.43%</td>\n",
              "      <td>94.38%</td>\n",
              "    </tr>\n",
              "    <tr>\n",
              "      <th>3</th>\n",
              "      <td>RandomForestClassifier</td>\n",
              "      <td>91.10%</td>\n",
              "      <td>91.32%</td>\n",
              "      <td>0.90</td>\n",
              "      <td>91.32%</td>\n",
              "      <td>91.13%</td>\n",
              "    </tr>\n",
              "    <tr>\n",
              "      <th>0</th>\n",
              "      <td>KNeighborsClassifier</td>\n",
              "      <td>90.38%</td>\n",
              "      <td>90.62%</td>\n",
              "      <td>0.89</td>\n",
              "      <td>90.77%</td>\n",
              "      <td>90.46%</td>\n",
              "    </tr>\n",
              "    <tr>\n",
              "      <th>6</th>\n",
              "      <td>QuadraticDiscriminantAnalysis</td>\n",
              "      <td>87.43%</td>\n",
              "      <td>87.96%</td>\n",
              "      <td>0.86</td>\n",
              "      <td>88.05%</td>\n",
              "      <td>87.83%</td>\n",
              "    </tr>\n",
              "    <tr>\n",
              "      <th>5</th>\n",
              "      <td>GaussianNB</td>\n",
              "      <td>83.95%</td>\n",
              "      <td>84.31%</td>\n",
              "      <td>0.82</td>\n",
              "      <td>85.21%</td>\n",
              "      <td>84.39%</td>\n",
              "    </tr>\n",
              "    <tr>\n",
              "      <th>2</th>\n",
              "      <td>DecisionTreeClassifier</td>\n",
              "      <td>83.15%</td>\n",
              "      <td>83.61%</td>\n",
              "      <td>0.81</td>\n",
              "      <td>83.21%</td>\n",
              "      <td>83.26%</td>\n",
              "    </tr>\n",
              "    <tr>\n",
              "      <th>4</th>\n",
              "      <td>AdaBoostClassifier</td>\n",
              "      <td>43.05%</td>\n",
              "      <td>49.58%</td>\n",
              "      <td>0.47</td>\n",
              "      <td>51.57%</td>\n",
              "      <td>51.88%</td>\n",
              "    </tr>\n",
              "  </tbody>\n",
              "</table>\n",
              "</div>\n",
              "      <button class=\"colab-df-convert\" onclick=\"convertToInteractive('df-55b5e614-ddf6-427d-9c63-97cd0617d9f2')\"\n",
              "              title=\"Convert this dataframe to an interactive table.\"\n",
              "              style=\"display:none;\">\n",
              "        \n",
              "  <svg xmlns=\"http://www.w3.org/2000/svg\" height=\"24px\"viewBox=\"0 0 24 24\"\n",
              "       width=\"24px\">\n",
              "    <path d=\"M0 0h24v24H0V0z\" fill=\"none\"/>\n",
              "    <path d=\"M18.56 5.44l.94 2.06.94-2.06 2.06-.94-2.06-.94-.94-2.06-.94 2.06-2.06.94zm-11 1L8.5 8.5l.94-2.06 2.06-.94-2.06-.94L8.5 2.5l-.94 2.06-2.06.94zm10 10l.94 2.06.94-2.06 2.06-.94-2.06-.94-.94-2.06-.94 2.06-2.06.94z\"/><path d=\"M17.41 7.96l-1.37-1.37c-.4-.4-.92-.59-1.43-.59-.52 0-1.04.2-1.43.59L10.3 9.45l-7.72 7.72c-.78.78-.78 2.05 0 2.83L4 21.41c.39.39.9.59 1.41.59.51 0 1.02-.2 1.41-.59l7.78-7.78 2.81-2.81c.8-.78.8-2.07 0-2.86zM5.41 20L4 18.59l7.72-7.72 1.47 1.35L5.41 20z\"/>\n",
              "  </svg>\n",
              "      </button>\n",
              "      \n",
              "  <style>\n",
              "    .colab-df-container {\n",
              "      display:flex;\n",
              "      flex-wrap:wrap;\n",
              "      gap: 12px;\n",
              "    }\n",
              "\n",
              "    .colab-df-convert {\n",
              "      background-color: #E8F0FE;\n",
              "      border: none;\n",
              "      border-radius: 50%;\n",
              "      cursor: pointer;\n",
              "      display: none;\n",
              "      fill: #1967D2;\n",
              "      height: 32px;\n",
              "      padding: 0 0 0 0;\n",
              "      width: 32px;\n",
              "    }\n",
              "\n",
              "    .colab-df-convert:hover {\n",
              "      background-color: #E2EBFA;\n",
              "      box-shadow: 0px 1px 2px rgba(60, 64, 67, 0.3), 0px 1px 3px 1px rgba(60, 64, 67, 0.15);\n",
              "      fill: #174EA6;\n",
              "    }\n",
              "\n",
              "    [theme=dark] .colab-df-convert {\n",
              "      background-color: #3B4455;\n",
              "      fill: #D2E3FC;\n",
              "    }\n",
              "\n",
              "    [theme=dark] .colab-df-convert:hover {\n",
              "      background-color: #434B5C;\n",
              "      box-shadow: 0px 1px 3px 1px rgba(0, 0, 0, 0.15);\n",
              "      filter: drop-shadow(0px 1px 2px rgba(0, 0, 0, 0.3));\n",
              "      fill: #FFFFFF;\n",
              "    }\n",
              "  </style>\n",
              "\n",
              "      <script>\n",
              "        const buttonEl =\n",
              "          document.querySelector('#df-55b5e614-ddf6-427d-9c63-97cd0617d9f2 button.colab-df-convert');\n",
              "        buttonEl.style.display =\n",
              "          google.colab.kernel.accessAllowed ? 'block' : 'none';\n",
              "\n",
              "        async function convertToInteractive(key) {\n",
              "          const element = document.querySelector('#df-55b5e614-ddf6-427d-9c63-97cd0617d9f2');\n",
              "          const dataTable =\n",
              "            await google.colab.kernel.invokeFunction('convertToInteractive',\n",
              "                                                     [key], {});\n",
              "          if (!dataTable) return;\n",
              "\n",
              "          const docLinkHtml = 'Like what you see? Visit the ' +\n",
              "            '<a target=\"_blank\" href=https://colab.research.google.com/notebooks/data_table.ipynb>data table notebook</a>'\n",
              "            + ' to learn more about interactive tables.';\n",
              "          element.innerHTML = '';\n",
              "          dataTable['output_type'] = 'display_data';\n",
              "          await google.colab.output.renderOutput(dataTable, element);\n",
              "          const docLink = document.createElement('div');\n",
              "          docLink.innerHTML = docLinkHtml;\n",
              "          element.appendChild(docLink);\n",
              "        }\n",
              "      </script>\n",
              "    </div>\n",
              "  </div>\n",
              "  "
            ]
          },
          "metadata": {},
          "execution_count": 28
        }
      ]
    }
  ],
  "metadata": {
    "colab": {
      "provenance": [],
      "include_colab_link": true
    },
    "gpuClass": "standard",
    "kernelspec": {
      "display_name": "Python 3",
      "name": "python3"
    },
    "language_info": {
      "name": "python"
    }
  },
  "nbformat": 4,
  "nbformat_minor": 0
}